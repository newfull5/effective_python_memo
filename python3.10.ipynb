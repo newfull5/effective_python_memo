{
 "cells": [
  {
   "cell_type": "code",
   "execution_count": 3,
   "id": "68ecaff7",
   "metadata": {},
   "outputs": [
    {
     "name": "stdout",
     "output_type": "stream",
     "text": [
      "3.10.0 (v3.10.0:b494f5935c, Oct  4 2021, 14:59:20) [Clang 12.0.5 (clang-1205.0.22.11)]\n"
     ]
    }
   ],
   "source": [
    "import sys\n",
    "print(sys.version)"
   ]
  },
  {
   "cell_type": "markdown",
   "id": "4c5c0dfb",
   "metadata": {},
   "source": [
    "# Python 3.9 추가사항\n",
    "\n",
    "- Dictionary 순서 보존 \n",
    "- Dictionary 병합 연산자 |"
   ]
  },
  {
   "cell_type": "code",
   "execution_count": 7,
   "id": "19f7eae5",
   "metadata": {},
   "outputs": [
    {
     "name": "stdout",
     "output_type": "stream",
     "text": [
      "{'android': 11, 'ios': 14}\n",
      "{'ios': 14, 'android': 11}\n"
     ]
    }
   ],
   "source": [
    "google = {'android': 11}\n",
    "apple = {'ios': 14}\n",
    "\n",
    "print(google | apple)\n",
    "print(apple | google)"
   ]
  },
  {
   "cell_type": "markdown",
   "id": "24cb7c6b",
   "metadata": {},
   "source": [
    "- 접두사 삭제 함수 removeprefix()\n",
    "- 접미사 삭제 함수 removesuffix()"
   ]
  },
  {
   "cell_type": "code",
   "execution_count": 6,
   "id": "ebb0a97a",
   "metadata": {},
   "outputs": [
    {
     "name": "stdout",
     "output_type": "stream",
     "text": [
      "eicheich\n"
     ]
    }
   ],
   "source": [
    "string = 'eicheich'\n",
    "string = string.removeprefix('eich')\n",
    "\n",
    "print(string)"
   ]
  },
  {
   "cell_type": "code",
   "execution_count": 15,
   "id": "03d1b141",
   "metadata": {},
   "outputs": [
    {
     "name": "stdout",
     "output_type": "stream",
     "text": [
      "eich\n"
     ]
    }
   ],
   "source": [
    "string = 'eichmann'\n",
    "string = string.removesuffix('mann')\n",
    "\n",
    "print(string)"
   ]
  },
  {
   "cell_type": "code",
   "execution_count": 13,
   "id": "75ba1453",
   "metadata": {},
   "outputs": [
    {
     "data": {
      "text/plain": [
       "[1, 3, 2]"
      ]
     },
     "execution_count": 13,
     "metadata": {},
     "output_type": "execute_result"
    }
   ],
   "source": [
    "import random\n",
    "\n",
    "a = [1,2,3]\n",
    "\n",
    "random.sample(a, k=len(a))"
   ]
  },
  {
   "cell_type": "markdown",
   "id": "2907feeb",
   "metadata": {},
   "source": [
    "#### 기타 변경사항\n",
    "\n",
    "- math.gcd(), math.lcm() 파라미터 2개 이상 받음\n",
    "- import 에러 ValueError 대신 ImportError 발생\n",
    "- random.shuffle() 함수 삭제예정 (3.11) -> random.sample() 사용 권장\n",
    "- 일부 내장 함수 최적화"
   ]
  },
  {
   "cell_type": "markdown",
   "id": "edc80461",
   "metadata": {},
   "source": [
    "# Python 3.10 추가사항\n",
    "\n",
    "- 타입 힌트 개선"
   ]
  },
  {
   "cell_type": "code",
   "execution_count": 34,
   "id": "50fb6e2f",
   "metadata": {},
   "outputs": [
    {
     "name": "stdout",
     "output_type": "stream",
     "text": [
      "4.41\n"
     ]
    }
   ],
   "source": [
    "from typing import Union\n",
    "\n",
    "def square(number: Union[int, float]) -> Union[int, float]:\n",
    "    return number ** 2\n",
    "\n",
    "print(square(2.1))"
   ]
  },
  {
   "cell_type": "code",
   "execution_count": 35,
   "id": "2c0a8b4e",
   "metadata": {},
   "outputs": [
    {
     "name": "stdout",
     "output_type": "stream",
     "text": [
      "4.41\n"
     ]
    }
   ],
   "source": [
    "def square(number: int | float) -> int | float:\n",
    "    return number ** 2\n",
    "\n",
    "print(square(2.1))"
   ]
  },
  {
   "cell_type": "code",
   "execution_count": 26,
   "id": "a2790b1e",
   "metadata": {},
   "outputs": [],
   "source": [
    "from typing import List\n",
    "\n",
    "def add(numbers: List[int]) -> int:\n",
    "    return sum(numbers)"
   ]
  },
  {
   "cell_type": "code",
   "execution_count": 39,
   "id": "ad5d1ad3",
   "metadata": {},
   "outputs": [
    {
     "name": "stdout",
     "output_type": "stream",
     "text": [
      "6\n"
     ]
    }
   ],
   "source": [
    "print(add([1,2,3]))"
   ]
  },
  {
   "cell_type": "code",
   "execution_count": 42,
   "id": "910e3299",
   "metadata": {},
   "outputs": [],
   "source": [
    "def add(numbers: list[int]) -> int:\n",
    "    return sum(numbers)"
   ]
  },
  {
   "cell_type": "code",
   "execution_count": 43,
   "id": "7175f3b9",
   "metadata": {},
   "outputs": [
    {
     "name": "stdout",
     "output_type": "stream",
     "text": [
      "6\n"
     ]
    }
   ],
   "source": [
    "print(add([1,2,3]))"
   ]
  },
  {
   "cell_type": "markdown",
   "id": "c0d24237",
   "metadata": {},
   "source": [
    "- 에러 메시지 개선"
   ]
  },
  {
   "cell_type": "code",
   "execution_count": 45,
   "id": "626093c7",
   "metadata": {},
   "outputs": [
    {
     "ename": "SyntaxError",
     "evalue": "'{' was never closed (3739790726.py, line 1)",
     "output_type": "error",
     "traceback": [
      "\u001b[0;36m  File \u001b[0;32m\"/var/folders/cc/nx0n5xgd0p12q50x_6qkqgy80000gn/T/ipykernel_7309/3739790726.py\"\u001b[0;36m, line \u001b[0;32m1\u001b[0m\n\u001b[0;31m    expected = {1,2,3,4\u001b[0m\n\u001b[0m               ^\u001b[0m\n\u001b[0;31mSyntaxError\u001b[0m\u001b[0;31m:\u001b[0m '{' was never closed\n"
     ]
    }
   ],
   "source": [
    "expected = {1,2,3,4"
   ]
  },
  {
   "cell_type": "code",
   "execution_count": 48,
   "id": "96292da4",
   "metadata": {},
   "outputs": [
    {
     "ename": "SyntaxError",
     "evalue": "cannot assign to literal here. Maybe you meant '==' instead of '='? (3969185522.py, line 1)",
     "output_type": "error",
     "traceback": [
      "\u001b[0;36m  File \u001b[0;32m\"/var/folders/cc/nx0n5xgd0p12q50x_6qkqgy80000gn/T/ipykernel_7309/3969185522.py\"\u001b[0;36m, line \u001b[0;32m1\u001b[0m\n\u001b[0;31m    if 1 = True:\u001b[0m\n\u001b[0m       ^\u001b[0m\n\u001b[0;31mSyntaxError\u001b[0m\u001b[0;31m:\u001b[0m cannot assign to literal here. Maybe you meant '==' instead of '='?\n"
     ]
    }
   ],
   "source": [
    "if 1 = True:\n",
    "    print('hello')"
   ]
  },
  {
   "cell_type": "code",
   "execution_count": 49,
   "id": "10ac7e1b",
   "metadata": {},
   "outputs": [
    {
     "ename": "IndentationError",
     "evalue": "expected an indented block after 'if' statement on line 1 (3708491032.py, line 2)",
     "output_type": "error",
     "traceback": [
      "\u001b[0;36m  File \u001b[0;32m\"/var/folders/cc/nx0n5xgd0p12q50x_6qkqgy80000gn/T/ipykernel_7309/3708491032.py\"\u001b[0;36m, line \u001b[0;32m2\u001b[0m\n\u001b[0;31m    print('hello')\u001b[0m\n\u001b[0m    ^\u001b[0m\n\u001b[0;31mIndentationError\u001b[0m\u001b[0;31m:\u001b[0m expected an indented block after 'if' statement on line 1\n"
     ]
    }
   ],
   "source": [
    "if 1 == True:\n",
    "print('hello')"
   ]
  },
  {
   "cell_type": "markdown",
   "id": "ec3660d4",
   "metadata": {},
   "source": [
    "- 패턴 매칭 기능 추가\n",
    "- JAVA swith case 문과 유사"
   ]
  },
  {
   "cell_type": "code",
   "execution_count": 18,
   "id": "358bedcd",
   "metadata": {},
   "outputs": [
    {
     "name": "stdout",
     "output_type": "stream",
     "text": [
      "1\n"
     ]
    }
   ],
   "source": [
    "string = 'abcd'\n",
    "\n",
    "match string:\n",
    "    case 'abcd':\n",
    "        print(1)\n",
    "    case 'abc' | 'abd':\n",
    "        print(2)\n",
    "    case 'abcd':\n",
    "        print(3)"
   ]
  },
  {
   "cell_type": "code",
   "execution_count": 21,
   "id": "e8821e3e",
   "metadata": {},
   "outputs": [
    {
     "name": "stdout",
     "output_type": "stream",
     "text": [
      "wile card\n"
     ]
    }
   ],
   "source": [
    "string = 'abcd'\n",
    "\n",
    "match string:\n",
    "    case 'ab':\n",
    "        print(1)\n",
    "    case 'abc' | 'abd':\n",
    "        print(2)\n",
    "    case _:\n",
    "        print('wile card')"
   ]
  },
  {
   "cell_type": "markdown",
   "id": "ca9a55b4",
   "metadata": {},
   "source": [
    "## Effective Python\n",
    "\n",
    "- 정렬된 리스트 탐색시 bisect 사용 권장"
   ]
  },
  {
   "cell_type": "code",
   "execution_count": 29,
   "id": "d54b44e4",
   "metadata": {},
   "outputs": [],
   "source": [
    "import bisect\n",
    "\n",
    "arr = list(range(0,500,3))"
   ]
  },
  {
   "cell_type": "code",
   "execution_count": 30,
   "id": "c8dc197b",
   "metadata": {
    "collapsed": true
   },
   "outputs": [
    {
     "data": {
      "text/plain": [
       "[0,\n",
       " 3,\n",
       " 6,\n",
       " 9,\n",
       " 12,\n",
       " 15,\n",
       " 18,\n",
       " 21,\n",
       " 24,\n",
       " 27,\n",
       " 30,\n",
       " 33,\n",
       " 36,\n",
       " 39,\n",
       " 42,\n",
       " 45,\n",
       " 48,\n",
       " 51,\n",
       " 54,\n",
       " 57,\n",
       " 60,\n",
       " 63,\n",
       " 66,\n",
       " 69,\n",
       " 72,\n",
       " 75,\n",
       " 78,\n",
       " 81,\n",
       " 84,\n",
       " 87,\n",
       " 90,\n",
       " 93,\n",
       " 96,\n",
       " 99,\n",
       " 102,\n",
       " 105,\n",
       " 108,\n",
       " 111,\n",
       " 114,\n",
       " 117,\n",
       " 120,\n",
       " 123,\n",
       " 126,\n",
       " 129,\n",
       " 132,\n",
       " 135,\n",
       " 138,\n",
       " 141,\n",
       " 144,\n",
       " 147,\n",
       " 150,\n",
       " 153,\n",
       " 156,\n",
       " 159,\n",
       " 162,\n",
       " 165,\n",
       " 168,\n",
       " 171,\n",
       " 174,\n",
       " 177,\n",
       " 180,\n",
       " 183,\n",
       " 186,\n",
       " 189,\n",
       " 192,\n",
       " 195,\n",
       " 198,\n",
       " 201,\n",
       " 204,\n",
       " 207,\n",
       " 210,\n",
       " 213,\n",
       " 216,\n",
       " 219,\n",
       " 222,\n",
       " 225,\n",
       " 228,\n",
       " 231,\n",
       " 234,\n",
       " 237,\n",
       " 240,\n",
       " 243,\n",
       " 246,\n",
       " 249,\n",
       " 252,\n",
       " 255,\n",
       " 258,\n",
       " 261,\n",
       " 264,\n",
       " 267,\n",
       " 270,\n",
       " 273,\n",
       " 276,\n",
       " 279,\n",
       " 282,\n",
       " 285,\n",
       " 288,\n",
       " 291,\n",
       " 294,\n",
       " 297,\n",
       " 300,\n",
       " 303,\n",
       " 306,\n",
       " 309,\n",
       " 312,\n",
       " 315,\n",
       " 318,\n",
       " 321,\n",
       " 324,\n",
       " 327,\n",
       " 330,\n",
       " 333,\n",
       " 336,\n",
       " 339,\n",
       " 342,\n",
       " 345,\n",
       " 348,\n",
       " 351,\n",
       " 354,\n",
       " 357,\n",
       " 360,\n",
       " 363,\n",
       " 366,\n",
       " 369,\n",
       " 372,\n",
       " 375,\n",
       " 378,\n",
       " 381,\n",
       " 384,\n",
       " 387,\n",
       " 390,\n",
       " 393,\n",
       " 396,\n",
       " 399,\n",
       " 402,\n",
       " 405,\n",
       " 408,\n",
       " 411,\n",
       " 414,\n",
       " 417,\n",
       " 420,\n",
       " 423,\n",
       " 426,\n",
       " 429,\n",
       " 432,\n",
       " 435,\n",
       " 438,\n",
       " 441,\n",
       " 444,\n",
       " 447,\n",
       " 450,\n",
       " 453,\n",
       " 456,\n",
       " 459,\n",
       " 462,\n",
       " 465,\n",
       " 468,\n",
       " 471,\n",
       " 474,\n",
       " 477,\n",
       " 480,\n",
       " 483,\n",
       " 486,\n",
       " 489,\n",
       " 492,\n",
       " 495,\n",
       " 498]"
      ]
     },
     "execution_count": 30,
     "metadata": {},
     "output_type": "execute_result"
    }
   ],
   "source": [
    "arr"
   ]
  },
  {
   "cell_type": "code",
   "execution_count": 78,
   "id": "30bd0721",
   "metadata": {},
   "outputs": [
    {
     "name": "stdout",
     "output_type": "stream",
     "text": [
      "4\n",
      "2\n"
     ]
    }
   ],
   "source": [
    "print(bisect.bisect_left(arr, 10))\n",
    "\n",
    "# 존재하지 않는 경우 순서상 해당 값을 삽입해야 할 자리의 인덱스 반환\n",
    "print(bisect.bisect_left(arr, 5))"
   ]
  },
  {
   "cell_type": "code",
   "execution_count": 90,
   "id": "6ab63640",
   "metadata": {},
   "outputs": [
    {
     "name": "stdout",
     "output_type": "stream",
     "text": [
      "751 ns ± 95.3 ns per loop (mean ± std. dev. of 1000 runs, 10000 loops each)\n"
     ]
    }
   ],
   "source": [
    "%%timeit -n 10000 -r 1000\n",
    "\n",
    "arr.index(201)"
   ]
  },
  {
   "cell_type": "code",
   "execution_count": 91,
   "id": "b3b5cf02",
   "metadata": {},
   "outputs": [
    {
     "name": "stdout",
     "output_type": "stream",
     "text": [
      "190 ns ± 32.3 ns per loop (mean ± std. dev. of 1000 runs, 10000 loops each)\n"
     ]
    }
   ],
   "source": [
    "%%timeit -n 10000 -r 1000\n",
    "\n",
    "bisect.bisect_left(arr, 201)\n",
    "\n",
    "# list.index() 를 사용할 이유가 없다.\n",
    "# 코딩테스트때 유용할 것 같다."
   ]
  },
  {
   "cell_type": "markdown",
   "id": "54497f15",
   "metadata": {},
   "source": [
    "- 사후 디버깅\n",
    "- 에러가 난 위치를 모를경우\n",
    "- pdb.pm()"
   ]
  },
  {
   "cell_type": "code",
   "execution_count": 31,
   "id": "1cf5d14c",
   "metadata": {},
   "outputs": [
    {
     "name": "stdout",
     "output_type": "stream",
     "text": [
      "--Return--\n",
      "None\n",
      "> \u001b[0;32m/var/folders/cc/nx0n5xgd0p12q50x_6qkqgy80000gn/T/ipykernel_4764/1504711619.py\u001b[0m(5)\u001b[0;36m<module>\u001b[0;34m()\u001b[0m\n",
      "\u001b[0;32m      2 \u001b[0;31m\u001b[0;34m\u001b[0m\u001b[0m\n",
      "\u001b[0m\u001b[0;32m      3 \u001b[0;31m\u001b[0ma\u001b[0m \u001b[0;34m=\u001b[0m \u001b[0;36m1\u001b[0m\u001b[0;34m\u001b[0m\u001b[0;34m\u001b[0m\u001b[0m\n",
      "\u001b[0m\u001b[0;32m      4 \u001b[0;31m\u001b[0mb\u001b[0m \u001b[0;34m=\u001b[0m \u001b[0;34m'1'\u001b[0m\u001b[0;34m\u001b[0m\u001b[0;34m\u001b[0m\u001b[0m\n",
      "\u001b[0m\u001b[0;32m----> 5 \u001b[0;31m\u001b[0mpdb\u001b[0m\u001b[0;34m.\u001b[0m\u001b[0mset_trace\u001b[0m\u001b[0;34m(\u001b[0m\u001b[0;34m)\u001b[0m\u001b[0;34m\u001b[0m\u001b[0;34m\u001b[0m\u001b[0m\n",
      "\u001b[0m\u001b[0;32m      6 \u001b[0;31m\u001b[0mprint\u001b[0m\u001b[0;34m(\u001b[0m\u001b[0ma\u001b[0m\u001b[0;34m+\u001b[0m\u001b[0mb\u001b[0m\u001b[0;34m)\u001b[0m\u001b[0;34m\u001b[0m\u001b[0;34m\u001b[0m\u001b[0m\n",
      "\u001b[0m\n",
      "ipdb> a\n",
      "ipdb> print(a)\n",
      "1\n",
      "ipdb> print(b)\n",
      "1\n",
      "ipdb> a+b\n",
      "ipdb> print(a+b)\n",
      "*** TypeError: unsupported operand type(s) for +: 'int' and 'str'\n",
      "ipdb> quit()\n"
     ]
    },
    {
     "ename": "BdbQuit",
     "evalue": "",
     "output_type": "error",
     "traceback": [
      "\u001b[0;31m---------------------------------------------------------------------------\u001b[0m",
      "\u001b[0;31mBdbQuit\u001b[0m                                   Traceback (most recent call last)",
      "\u001b[0;32m/var/folders/cc/nx0n5xgd0p12q50x_6qkqgy80000gn/T/ipykernel_4764/1504711619.py\u001b[0m in \u001b[0;36m<module>\u001b[0;34m\u001b[0m\n\u001b[1;32m      3\u001b[0m \u001b[0ma\u001b[0m \u001b[0;34m=\u001b[0m \u001b[0;36m1\u001b[0m\u001b[0;34m\u001b[0m\u001b[0;34m\u001b[0m\u001b[0m\n\u001b[1;32m      4\u001b[0m \u001b[0mb\u001b[0m \u001b[0;34m=\u001b[0m \u001b[0;34m'1'\u001b[0m\u001b[0;34m\u001b[0m\u001b[0;34m\u001b[0m\u001b[0m\n\u001b[0;32m----> 5\u001b[0;31m \u001b[0mpdb\u001b[0m\u001b[0;34m.\u001b[0m\u001b[0mset_trace\u001b[0m\u001b[0;34m(\u001b[0m\u001b[0;34m)\u001b[0m\u001b[0;34m\u001b[0m\u001b[0;34m\u001b[0m\u001b[0m\n\u001b[0m\u001b[1;32m      6\u001b[0m \u001b[0mprint\u001b[0m\u001b[0;34m(\u001b[0m\u001b[0ma\u001b[0m\u001b[0;34m+\u001b[0m\u001b[0mb\u001b[0m\u001b[0;34m)\u001b[0m\u001b[0;34m\u001b[0m\u001b[0;34m\u001b[0m\u001b[0m\n",
      "\u001b[0;32m/Library/Frameworks/Python.framework/Versions/3.10/lib/python3.10/bdb.py\u001b[0m in \u001b[0;36mtrace_dispatch\u001b[0;34m(self, frame, event, arg)\u001b[0m\n\u001b[1;32m     92\u001b[0m             \u001b[0;32mreturn\u001b[0m \u001b[0mself\u001b[0m\u001b[0;34m.\u001b[0m\u001b[0mdispatch_call\u001b[0m\u001b[0;34m(\u001b[0m\u001b[0mframe\u001b[0m\u001b[0;34m,\u001b[0m \u001b[0marg\u001b[0m\u001b[0;34m)\u001b[0m\u001b[0;34m\u001b[0m\u001b[0;34m\u001b[0m\u001b[0m\n\u001b[1;32m     93\u001b[0m         \u001b[0;32mif\u001b[0m \u001b[0mevent\u001b[0m \u001b[0;34m==\u001b[0m \u001b[0;34m'return'\u001b[0m\u001b[0;34m:\u001b[0m\u001b[0;34m\u001b[0m\u001b[0;34m\u001b[0m\u001b[0m\n\u001b[0;32m---> 94\u001b[0;31m             \u001b[0;32mreturn\u001b[0m \u001b[0mself\u001b[0m\u001b[0;34m.\u001b[0m\u001b[0mdispatch_return\u001b[0m\u001b[0;34m(\u001b[0m\u001b[0mframe\u001b[0m\u001b[0;34m,\u001b[0m \u001b[0marg\u001b[0m\u001b[0;34m)\u001b[0m\u001b[0;34m\u001b[0m\u001b[0;34m\u001b[0m\u001b[0m\n\u001b[0m\u001b[1;32m     95\u001b[0m         \u001b[0;32mif\u001b[0m \u001b[0mevent\u001b[0m \u001b[0;34m==\u001b[0m \u001b[0;34m'exception'\u001b[0m\u001b[0;34m:\u001b[0m\u001b[0;34m\u001b[0m\u001b[0;34m\u001b[0m\u001b[0m\n\u001b[1;32m     96\u001b[0m             \u001b[0;32mreturn\u001b[0m \u001b[0mself\u001b[0m\u001b[0;34m.\u001b[0m\u001b[0mdispatch_exception\u001b[0m\u001b[0;34m(\u001b[0m\u001b[0mframe\u001b[0m\u001b[0;34m,\u001b[0m \u001b[0marg\u001b[0m\u001b[0;34m)\u001b[0m\u001b[0;34m\u001b[0m\u001b[0;34m\u001b[0m\u001b[0m\n",
      "\u001b[0;32m/Library/Frameworks/Python.framework/Versions/3.10/lib/python3.10/bdb.py\u001b[0m in \u001b[0;36mdispatch_return\u001b[0;34m(self, frame, arg)\u001b[0m\n\u001b[1;32m    154\u001b[0m             \u001b[0;32mfinally\u001b[0m\u001b[0;34m:\u001b[0m\u001b[0;34m\u001b[0m\u001b[0;34m\u001b[0m\u001b[0m\n\u001b[1;32m    155\u001b[0m                 \u001b[0mself\u001b[0m\u001b[0;34m.\u001b[0m\u001b[0mframe_returning\u001b[0m \u001b[0;34m=\u001b[0m \u001b[0;32mNone\u001b[0m\u001b[0;34m\u001b[0m\u001b[0;34m\u001b[0m\u001b[0m\n\u001b[0;32m--> 156\u001b[0;31m             \u001b[0;32mif\u001b[0m \u001b[0mself\u001b[0m\u001b[0;34m.\u001b[0m\u001b[0mquitting\u001b[0m\u001b[0;34m:\u001b[0m \u001b[0;32mraise\u001b[0m \u001b[0mBdbQuit\u001b[0m\u001b[0;34m\u001b[0m\u001b[0;34m\u001b[0m\u001b[0m\n\u001b[0m\u001b[1;32m    157\u001b[0m             \u001b[0;31m# The user issued a 'next' or 'until' command.\u001b[0m\u001b[0;34m\u001b[0m\u001b[0;34m\u001b[0m\u001b[0m\n\u001b[1;32m    158\u001b[0m             \u001b[0;32mif\u001b[0m \u001b[0mself\u001b[0m\u001b[0;34m.\u001b[0m\u001b[0mstopframe\u001b[0m \u001b[0;32mis\u001b[0m \u001b[0mframe\u001b[0m \u001b[0;32mand\u001b[0m \u001b[0mself\u001b[0m\u001b[0;34m.\u001b[0m\u001b[0mstoplineno\u001b[0m \u001b[0;34m!=\u001b[0m \u001b[0;34m-\u001b[0m\u001b[0;36m1\u001b[0m\u001b[0;34m:\u001b[0m\u001b[0;34m\u001b[0m\u001b[0;34m\u001b[0m\u001b[0m\n",
      "\u001b[0;31mBdbQuit\u001b[0m: "
     ]
    }
   ],
   "source": [
    "import pdb\n",
    "\n",
    "a = 1\n",
    "b = '1'\n",
    "pdb.set_trace()\n",
    "print(a+b)"
   ]
  },
  {
   "cell_type": "code",
   "execution_count": 33,
   "id": "48655050",
   "metadata": {
    "collapsed": true
   },
   "outputs": [
    {
     "name": "stdout",
     "output_type": "stream",
     "text": [
      "None\n",
      "> \u001b[0;32m/var/folders/cc/nx0n5xgd0p12q50x_6qkqgy80000gn/T/ipykernel_4764/524956487.py\u001b[0m(8)\u001b[0;36m<module>\u001b[0;34m()\u001b[0m\n",
      "\u001b[0;32m      6 \u001b[0;31m\u001b[0mb\u001b[0m \u001b[0;34m=\u001b[0m \u001b[0;34m'1'\u001b[0m\u001b[0;34m\u001b[0m\u001b[0;34m\u001b[0m\u001b[0m\n",
      "\u001b[0m\u001b[0;32m      7 \u001b[0;31m\u001b[0;34m\u001b[0m\u001b[0m\n",
      "\u001b[0m\u001b[0;32m----> 8 \u001b[0;31m\u001b[0mprint\u001b[0m\u001b[0;34m(\u001b[0m\u001b[0ma\u001b[0m\u001b[0;34m+\u001b[0m\u001b[0mb\u001b[0m\u001b[0;34m)\u001b[0m\u001b[0;34m\u001b[0m\u001b[0;34m\u001b[0m\u001b[0m\n",
      "\u001b[0m\u001b[0;32m      9 \u001b[0;31m\u001b[0;34m\u001b[0m\u001b[0m\n",
      "\u001b[0m\u001b[0;32m     10 \u001b[0;31m\u001b[0;31m## 또는 터미널에서 실행시 `python3 -m pdb -c continue FILE_NAME.py` 사용\u001b[0m\u001b[0;34m\u001b[0m\u001b[0;34m\u001b[0m\u001b[0m\n",
      "\u001b[0m\n",
      "ipdb> print(a)\n",
      "1\n",
      "ipdb> print(b)\n",
      "1\n",
      "ipdb> quit()\n"
     ]
    },
    {
     "ename": "TypeError",
     "evalue": "unsupported operand type(s) for +: 'int' and 'str'",
     "output_type": "error",
     "traceback": [
      "\u001b[0;31m---------------------------------------------------------------------------\u001b[0m",
      "\u001b[0;31mTypeError\u001b[0m                                 Traceback (most recent call last)",
      "\u001b[0;32m/var/folders/cc/nx0n5xgd0p12q50x_6qkqgy80000gn/T/ipykernel_4764/524956487.py\u001b[0m in \u001b[0;36m<module>\u001b[0;34m\u001b[0m\n\u001b[1;32m      6\u001b[0m \u001b[0mb\u001b[0m \u001b[0;34m=\u001b[0m \u001b[0;34m'1'\u001b[0m\u001b[0;34m\u001b[0m\u001b[0;34m\u001b[0m\u001b[0m\n\u001b[1;32m      7\u001b[0m \u001b[0;34m\u001b[0m\u001b[0m\n\u001b[0;32m----> 8\u001b[0;31m \u001b[0mprint\u001b[0m\u001b[0;34m(\u001b[0m\u001b[0ma\u001b[0m\u001b[0;34m+\u001b[0m\u001b[0mb\u001b[0m\u001b[0;34m)\u001b[0m\u001b[0;34m\u001b[0m\u001b[0;34m\u001b[0m\u001b[0m\n\u001b[0m\u001b[1;32m      9\u001b[0m \u001b[0;34m\u001b[0m\u001b[0m\n\u001b[1;32m     10\u001b[0m \u001b[0;31m## 또는 터미널에서 실행시 `python3 -m pdb -c continue FILE_NAME.py` 사용\u001b[0m\u001b[0;34m\u001b[0m\u001b[0;34m\u001b[0m\u001b[0m\n",
      "\u001b[0;31mTypeError\u001b[0m: unsupported operand type(s) for +: 'int' and 'str'"
     ]
    }
   ],
   "source": [
    "import pdb\n",
    "\n",
    "pdb.pm()\n",
    "\n",
    "a = 1\n",
    "b = '1'\n",
    "\n",
    "print(a+b)\n",
    "\n",
    "## 또는 터미널에서 실행시 `python3 -m pdb -c continue FILE_NAME.py` 사용"
   ]
  },
  {
   "cell_type": "markdown",
   "id": "07cbdbc1",
   "metadata": {},
   "source": [
    "- 언패킹 기법"
   ]
  },
  {
   "cell_type": "code",
   "execution_count": 107,
   "id": "11f739d0",
   "metadata": {},
   "outputs": [
    {
     "name": "stdout",
     "output_type": "stream",
     "text": [
      "1 5\n",
      "1 5\n"
     ]
    }
   ],
   "source": [
    "arr = [1,2,3,4,5]\n",
    "\n",
    "print(arr[0], arr[-1])\n",
    "\n",
    "a,b,c,d,e = arr\n",
    "\n",
    "print(a,e)"
   ]
  },
  {
   "cell_type": "code",
   "execution_count": 108,
   "id": "a3f67cc6",
   "metadata": {},
   "outputs": [
    {
     "name": "stdout",
     "output_type": "stream",
     "text": [
      "1 [2, 3, 4] 5\n"
     ]
    }
   ],
   "source": [
    "a, *b, c = arr\n",
    "\n",
    "print(a, b, c)"
   ]
  },
  {
   "cell_type": "code",
   "execution_count": 109,
   "id": "ae6d0b36",
   "metadata": {},
   "outputs": [
    {
     "name": "stdout",
     "output_type": "stream",
     "text": [
      "1 2 [3, 4, 5]\n"
     ]
    }
   ],
   "source": [
    "a, b, *c = arr\n",
    "\n",
    "print(a, b, c)"
   ]
  },
  {
   "cell_type": "markdown",
   "id": "b58a8988",
   "metadata": {},
   "source": [
    "- 병렬성을 위해 subporcess 사용"
   ]
  },
  {
   "cell_type": "code",
   "execution_count": 111,
   "id": "dbf180d2",
   "metadata": {},
   "outputs": [
    {
     "name": "stdout",
     "output_type": "stream",
     "text": [
      "123\n"
     ]
    },
    {
     "data": {
      "text/plain": [
       "0"
      ]
     },
     "execution_count": 111,
     "metadata": {},
     "output_type": "execute_result"
    }
   ],
   "source": [
    "import os\n",
    "\n",
    "os.system('echo 123')"
   ]
  },
  {
   "cell_type": "code",
   "execution_count": 35,
   "id": "96fc829d",
   "metadata": {},
   "outputs": [],
   "source": [
    "import subprocess\n",
    "\n",
    "result = subprocess.run(['echo', 'hi'],\n",
    "                       capture_output=True,\n",
    "                       encoding='utf-8')\n",
    "\n",
    "result = subprocess.run(['echo', 'hi'],\n",
    "                       capture_output=True,\n",
    "                       encoding='utf-8')\n",
    "\n",
    "result = subprocess.run(['echo', 'hi'],\n",
    "                       capture_output=True,\n",
    "                       encoding='utf-8')\n",
    "\n",
    "# 파이선 인터프리터와 독립적으로 실행됨"
   ]
  },
  {
   "cell_type": "code",
   "execution_count": 40,
   "id": "332111e9",
   "metadata": {},
   "outputs": [],
   "source": [
    "import multiprocessing as mp"
   ]
  },
  {
   "cell_type": "code",
   "execution_count": 151,
   "id": "5880330b",
   "metadata": {},
   "outputs": [
    {
     "name": "stdout",
     "output_type": "stream",
     "text": [
      "작업중\n",
      "작업중\n",
      "작업중\n",
      "작업중\n",
      "작업중\n",
      "작업완료\n"
     ]
    }
   ],
   "source": [
    "import time\n",
    "\n",
    "proc = subprocess.Popen(['sleep', '5'])\n",
    "\n",
    "while proc.poll() is None:\n",
    "    time.sleep(1)\n",
    "    print('작업중')\n",
    "    \n",
    "print('작업완료')"
   ]
  },
  {
   "cell_type": "markdown",
   "id": "a98a33c1",
   "metadata": {},
   "source": [
    "- 제너레이터 사용"
   ]
  },
  {
   "cell_type": "code",
   "execution_count": 44,
   "id": "f6ecb63b",
   "metadata": {},
   "outputs": [],
   "source": [
    "arr = [1,2,3,...]"
   ]
  },
  {
   "cell_type": "code",
   "execution_count": 45,
   "id": "f228acde",
   "metadata": {},
   "outputs": [
    {
     "data": {
      "text/plain": [
       "[2, 4, 6]"
      ]
     },
     "execution_count": 45,
     "metadata": {},
     "output_type": "execute_result"
    }
   ],
   "source": [
    "list(map(lambda x: x*2, arr))"
   ]
  },
  {
   "cell_type": "code",
   "execution_count": 46,
   "id": "fdd0ad5b",
   "metadata": {},
   "outputs": [
    {
     "data": {
      "text/plain": [
       "[2, 4, 6]"
      ]
     },
     "execution_count": 46,
     "metadata": {},
     "output_type": "execute_result"
    }
   ],
   "source": [
    "[v*2 for v in arr]"
   ]
  },
  {
   "cell_type": "code",
   "execution_count": 47,
   "id": "8683baca",
   "metadata": {},
   "outputs": [
    {
     "name": "stdout",
     "output_type": "stream",
     "text": [
      "2\n",
      "4\n",
      "6\n"
     ]
    }
   ],
   "source": [
    "(v*2 for v in arr)"
   ]
  },
  {
   "cell_type": "code",
   "execution_count": 49,
   "id": "34efb045",
   "metadata": {},
   "outputs": [],
   "source": [
    "def gen():\n",
    "    for v in arr:\n",
    "        yield v*2"
   ]
  },
  {
   "cell_type": "code",
   "execution_count": 50,
   "id": "54d60028",
   "metadata": {},
   "outputs": [
    {
     "name": "stdout",
     "output_type": "stream",
     "text": [
      "2\n",
      "4\n",
      "6\n"
     ]
    }
   ],
   "source": [
    "for a in gen():\n",
    "    print(a)"
   ]
  },
  {
   "cell_type": "code",
   "execution_count": 11,
   "id": "811b68e3",
   "metadata": {},
   "outputs": [],
   "source": [
    "class Gen:\n",
    "    def __init__(self):\n",
    "        self.arr = [1,2,3,4]\n",
    "    \n",
    "    def __iter__(self):\n",
    "        for v in self.arr:\n",
    "            yield v"
   ]
  },
  {
   "cell_type": "code",
   "execution_count": 12,
   "id": "3bfb6eef",
   "metadata": {},
   "outputs": [],
   "source": [
    "a = Gen()"
   ]
  },
  {
   "cell_type": "code",
   "execution_count": 14,
   "id": "e0a57b40",
   "metadata": {},
   "outputs": [
    {
     "name": "stdout",
     "output_type": "stream",
     "text": [
      "1\n",
      "2\n",
      "3\n",
      "4\n"
     ]
    }
   ],
   "source": [
    "for v in a:\n",
    "    print(v)"
   ]
  },
  {
   "cell_type": "code",
   "execution_count": 51,
   "id": "15c9432f",
   "metadata": {},
   "outputs": [],
   "source": [
    "import sys"
   ]
  },
  {
   "cell_type": "code",
   "execution_count": 53,
   "id": "a588a51c",
   "metadata": {},
   "outputs": [],
   "source": [
    "arr = list(range(1,100000000))"
   ]
  },
  {
   "cell_type": "code",
   "execution_count": 55,
   "id": "96a048e5",
   "metadata": {},
   "outputs": [],
   "source": [
    "gen = (i for i in range(1,100000000))"
   ]
  },
  {
   "cell_type": "code",
   "execution_count": 54,
   "id": "608dd215",
   "metadata": {},
   "outputs": [
    {
     "data": {
      "text/plain": [
       "800000048"
      ]
     },
     "execution_count": 54,
     "metadata": {},
     "output_type": "execute_result"
    }
   ],
   "source": [
    "sys.getsizeof(arr)"
   ]
  },
  {
   "cell_type": "code",
   "execution_count": 57,
   "id": "722f482a",
   "metadata": {},
   "outputs": [
    {
     "data": {
      "text/plain": [
       "104"
      ]
     },
     "execution_count": 57,
     "metadata": {},
     "output_type": "execute_result"
    }
   ],
   "source": [
    "sys.getsizeof(gen)"
   ]
  },
  {
   "cell_type": "code",
   "execution_count": null,
   "id": "fa9a1655",
   "metadata": {},
   "outputs": [],
   "source": [
    "50\n",
    "\n",
    "5 5 5 5 5 5 5 5 5 5 5"
   ]
  }
 ],
 "metadata": {
  "kernelspec": {
   "display_name": "py310",
   "language": "python",
   "name": "py310"
  },
  "language_info": {
   "codemirror_mode": {
    "name": "ipython",
    "version": 3
   },
   "file_extension": ".py",
   "mimetype": "text/x-python",
   "name": "python",
   "nbconvert_exporter": "python",
   "pygments_lexer": "ipython3",
   "version": "3.10.0"
  }
 },
 "nbformat": 4,
 "nbformat_minor": 5
}
